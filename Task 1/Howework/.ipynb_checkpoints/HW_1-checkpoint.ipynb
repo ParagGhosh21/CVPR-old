{
 "cells": [
  {
   "cell_type": "code",
   "execution_count": 1,
   "metadata": {
    "id": "s0zhrpX-Egkn"
   },
   "outputs": [],
   "source": [
    "import matplotlib.pyplot as plt\n",
    "import numpy as np\n",
    "import random\n",
    "import math\n",
    "from IPython import display\n",
    "import pandas as pd\n"
   ]
  },
  {
   "cell_type": "code",
   "execution_count": 2,
   "metadata": {
    "colab": {
     "base_uri": "https://localhost:8080/",
     "height": 206
    },
    "id": "7-aEK9yyM13E",
    "outputId": "cb485447-ce84-494e-8c28-e00e7e9b678a"
   },
   "outputs": [
    {
     "ename": "FileNotFoundError",
     "evalue": "[Errno 2] No such file or directory: 'Sheet1.csv'",
     "output_type": "error",
     "traceback": [
      "\u001b[1;31m---------------------------------------------------------------------------\u001b[0m",
      "\u001b[1;31mFileNotFoundError\u001b[0m                         Traceback (most recent call last)",
      "\u001b[1;32m<ipython-input-2-0ca2fe440e78>\u001b[0m in \u001b[0;36m<module>\u001b[1;34m\u001b[0m\n\u001b[1;32m----> 1\u001b[1;33m \u001b[0mdf\u001b[0m \u001b[1;33m=\u001b[0m \u001b[0mpd\u001b[0m\u001b[1;33m.\u001b[0m\u001b[0mread_csv\u001b[0m\u001b[1;33m(\u001b[0m\u001b[1;34m'Sheet1.csv'\u001b[0m\u001b[1;33m)\u001b[0m\u001b[1;33m\u001b[0m\u001b[1;33m\u001b[0m\u001b[0m\n\u001b[0m\u001b[0;32m      2\u001b[0m \u001b[0mdf\u001b[0m\u001b[1;33m.\u001b[0m\u001b[0mhead\u001b[0m\u001b[1;33m(\u001b[0m\u001b[1;33m)\u001b[0m\u001b[1;33m\u001b[0m\u001b[1;33m\u001b[0m\u001b[0m\n",
      "\u001b[1;32m~\\anaconda3\\lib\\site-packages\\pandas\\io\\parsers.py\u001b[0m in \u001b[0;36mread_csv\u001b[1;34m(filepath_or_buffer, sep, delimiter, header, names, index_col, usecols, squeeze, prefix, mangle_dupe_cols, dtype, engine, converters, true_values, false_values, skipinitialspace, skiprows, skipfooter, nrows, na_values, keep_default_na, na_filter, verbose, skip_blank_lines, parse_dates, infer_datetime_format, keep_date_col, date_parser, dayfirst, cache_dates, iterator, chunksize, compression, thousands, decimal, lineterminator, quotechar, quoting, doublequote, escapechar, comment, encoding, dialect, error_bad_lines, warn_bad_lines, delim_whitespace, low_memory, memory_map, float_precision, storage_options)\u001b[0m\n\u001b[0;32m    608\u001b[0m     \u001b[0mkwds\u001b[0m\u001b[1;33m.\u001b[0m\u001b[0mupdate\u001b[0m\u001b[1;33m(\u001b[0m\u001b[0mkwds_defaults\u001b[0m\u001b[1;33m)\u001b[0m\u001b[1;33m\u001b[0m\u001b[1;33m\u001b[0m\u001b[0m\n\u001b[0;32m    609\u001b[0m \u001b[1;33m\u001b[0m\u001b[0m\n\u001b[1;32m--> 610\u001b[1;33m     \u001b[1;32mreturn\u001b[0m \u001b[0m_read\u001b[0m\u001b[1;33m(\u001b[0m\u001b[0mfilepath_or_buffer\u001b[0m\u001b[1;33m,\u001b[0m \u001b[0mkwds\u001b[0m\u001b[1;33m)\u001b[0m\u001b[1;33m\u001b[0m\u001b[1;33m\u001b[0m\u001b[0m\n\u001b[0m\u001b[0;32m    611\u001b[0m \u001b[1;33m\u001b[0m\u001b[0m\n\u001b[0;32m    612\u001b[0m \u001b[1;33m\u001b[0m\u001b[0m\n",
      "\u001b[1;32m~\\anaconda3\\lib\\site-packages\\pandas\\io\\parsers.py\u001b[0m in \u001b[0;36m_read\u001b[1;34m(filepath_or_buffer, kwds)\u001b[0m\n\u001b[0;32m    460\u001b[0m \u001b[1;33m\u001b[0m\u001b[0m\n\u001b[0;32m    461\u001b[0m     \u001b[1;31m# Create the parser.\u001b[0m\u001b[1;33m\u001b[0m\u001b[1;33m\u001b[0m\u001b[1;33m\u001b[0m\u001b[0m\n\u001b[1;32m--> 462\u001b[1;33m     \u001b[0mparser\u001b[0m \u001b[1;33m=\u001b[0m \u001b[0mTextFileReader\u001b[0m\u001b[1;33m(\u001b[0m\u001b[0mfilepath_or_buffer\u001b[0m\u001b[1;33m,\u001b[0m \u001b[1;33m**\u001b[0m\u001b[0mkwds\u001b[0m\u001b[1;33m)\u001b[0m\u001b[1;33m\u001b[0m\u001b[1;33m\u001b[0m\u001b[0m\n\u001b[0m\u001b[0;32m    463\u001b[0m \u001b[1;33m\u001b[0m\u001b[0m\n\u001b[0;32m    464\u001b[0m     \u001b[1;32mif\u001b[0m \u001b[0mchunksize\u001b[0m \u001b[1;32mor\u001b[0m \u001b[0miterator\u001b[0m\u001b[1;33m:\u001b[0m\u001b[1;33m\u001b[0m\u001b[1;33m\u001b[0m\u001b[0m\n",
      "\u001b[1;32m~\\anaconda3\\lib\\site-packages\\pandas\\io\\parsers.py\u001b[0m in \u001b[0;36m__init__\u001b[1;34m(self, f, engine, **kwds)\u001b[0m\n\u001b[0;32m    817\u001b[0m             \u001b[0mself\u001b[0m\u001b[1;33m.\u001b[0m\u001b[0moptions\u001b[0m\u001b[1;33m[\u001b[0m\u001b[1;34m\"has_index_names\"\u001b[0m\u001b[1;33m]\u001b[0m \u001b[1;33m=\u001b[0m \u001b[0mkwds\u001b[0m\u001b[1;33m[\u001b[0m\u001b[1;34m\"has_index_names\"\u001b[0m\u001b[1;33m]\u001b[0m\u001b[1;33m\u001b[0m\u001b[1;33m\u001b[0m\u001b[0m\n\u001b[0;32m    818\u001b[0m \u001b[1;33m\u001b[0m\u001b[0m\n\u001b[1;32m--> 819\u001b[1;33m         \u001b[0mself\u001b[0m\u001b[1;33m.\u001b[0m\u001b[0m_engine\u001b[0m \u001b[1;33m=\u001b[0m \u001b[0mself\u001b[0m\u001b[1;33m.\u001b[0m\u001b[0m_make_engine\u001b[0m\u001b[1;33m(\u001b[0m\u001b[0mself\u001b[0m\u001b[1;33m.\u001b[0m\u001b[0mengine\u001b[0m\u001b[1;33m)\u001b[0m\u001b[1;33m\u001b[0m\u001b[1;33m\u001b[0m\u001b[0m\n\u001b[0m\u001b[0;32m    820\u001b[0m \u001b[1;33m\u001b[0m\u001b[0m\n\u001b[0;32m    821\u001b[0m     \u001b[1;32mdef\u001b[0m \u001b[0mclose\u001b[0m\u001b[1;33m(\u001b[0m\u001b[0mself\u001b[0m\u001b[1;33m)\u001b[0m\u001b[1;33m:\u001b[0m\u001b[1;33m\u001b[0m\u001b[1;33m\u001b[0m\u001b[0m\n",
      "\u001b[1;32m~\\anaconda3\\lib\\site-packages\\pandas\\io\\parsers.py\u001b[0m in \u001b[0;36m_make_engine\u001b[1;34m(self, engine)\u001b[0m\n\u001b[0;32m   1048\u001b[0m             )\n\u001b[0;32m   1049\u001b[0m         \u001b[1;31m# error: Too many arguments for \"ParserBase\"\u001b[0m\u001b[1;33m\u001b[0m\u001b[1;33m\u001b[0m\u001b[1;33m\u001b[0m\u001b[0m\n\u001b[1;32m-> 1050\u001b[1;33m         \u001b[1;32mreturn\u001b[0m \u001b[0mmapping\u001b[0m\u001b[1;33m[\u001b[0m\u001b[0mengine\u001b[0m\u001b[1;33m]\u001b[0m\u001b[1;33m(\u001b[0m\u001b[0mself\u001b[0m\u001b[1;33m.\u001b[0m\u001b[0mf\u001b[0m\u001b[1;33m,\u001b[0m \u001b[1;33m**\u001b[0m\u001b[0mself\u001b[0m\u001b[1;33m.\u001b[0m\u001b[0moptions\u001b[0m\u001b[1;33m)\u001b[0m  \u001b[1;31m# type: ignore[call-arg]\u001b[0m\u001b[1;33m\u001b[0m\u001b[1;33m\u001b[0m\u001b[0m\n\u001b[0m\u001b[0;32m   1051\u001b[0m \u001b[1;33m\u001b[0m\u001b[0m\n\u001b[0;32m   1052\u001b[0m     \u001b[1;32mdef\u001b[0m \u001b[0m_failover_to_python\u001b[0m\u001b[1;33m(\u001b[0m\u001b[0mself\u001b[0m\u001b[1;33m)\u001b[0m\u001b[1;33m:\u001b[0m\u001b[1;33m\u001b[0m\u001b[1;33m\u001b[0m\u001b[0m\n",
      "\u001b[1;32m~\\anaconda3\\lib\\site-packages\\pandas\\io\\parsers.py\u001b[0m in \u001b[0;36m__init__\u001b[1;34m(self, src, **kwds)\u001b[0m\n\u001b[0;32m   1865\u001b[0m \u001b[1;33m\u001b[0m\u001b[0m\n\u001b[0;32m   1866\u001b[0m         \u001b[1;31m# open handles\u001b[0m\u001b[1;33m\u001b[0m\u001b[1;33m\u001b[0m\u001b[1;33m\u001b[0m\u001b[0m\n\u001b[1;32m-> 1867\u001b[1;33m         \u001b[0mself\u001b[0m\u001b[1;33m.\u001b[0m\u001b[0m_open_handles\u001b[0m\u001b[1;33m(\u001b[0m\u001b[0msrc\u001b[0m\u001b[1;33m,\u001b[0m \u001b[0mkwds\u001b[0m\u001b[1;33m)\u001b[0m\u001b[1;33m\u001b[0m\u001b[1;33m\u001b[0m\u001b[0m\n\u001b[0m\u001b[0;32m   1868\u001b[0m         \u001b[1;32massert\u001b[0m \u001b[0mself\u001b[0m\u001b[1;33m.\u001b[0m\u001b[0mhandles\u001b[0m \u001b[1;32mis\u001b[0m \u001b[1;32mnot\u001b[0m \u001b[1;32mNone\u001b[0m\u001b[1;33m\u001b[0m\u001b[1;33m\u001b[0m\u001b[0m\n\u001b[0;32m   1869\u001b[0m         \u001b[1;32mfor\u001b[0m \u001b[0mkey\u001b[0m \u001b[1;32min\u001b[0m \u001b[1;33m(\u001b[0m\u001b[1;34m\"storage_options\"\u001b[0m\u001b[1;33m,\u001b[0m \u001b[1;34m\"encoding\"\u001b[0m\u001b[1;33m,\u001b[0m \u001b[1;34m\"memory_map\"\u001b[0m\u001b[1;33m,\u001b[0m \u001b[1;34m\"compression\"\u001b[0m\u001b[1;33m)\u001b[0m\u001b[1;33m:\u001b[0m\u001b[1;33m\u001b[0m\u001b[1;33m\u001b[0m\u001b[0m\n",
      "\u001b[1;32m~\\anaconda3\\lib\\site-packages\\pandas\\io\\parsers.py\u001b[0m in \u001b[0;36m_open_handles\u001b[1;34m(self, src, kwds)\u001b[0m\n\u001b[0;32m   1360\u001b[0m         \u001b[0mLet\u001b[0m \u001b[0mthe\u001b[0m \u001b[0mreaders\u001b[0m \u001b[0mopen\u001b[0m \u001b[0mIOHanldes\u001b[0m \u001b[0mafter\u001b[0m \u001b[0mthey\u001b[0m \u001b[0mare\u001b[0m \u001b[0mdone\u001b[0m \u001b[1;32mwith\u001b[0m \u001b[0mtheir\u001b[0m \u001b[0mpotential\u001b[0m \u001b[0mraises\u001b[0m\u001b[1;33m.\u001b[0m\u001b[1;33m\u001b[0m\u001b[1;33m\u001b[0m\u001b[0m\n\u001b[0;32m   1361\u001b[0m         \"\"\"\n\u001b[1;32m-> 1362\u001b[1;33m         self.handles = get_handle(\n\u001b[0m\u001b[0;32m   1363\u001b[0m             \u001b[0msrc\u001b[0m\u001b[1;33m,\u001b[0m\u001b[1;33m\u001b[0m\u001b[1;33m\u001b[0m\u001b[0m\n\u001b[0;32m   1364\u001b[0m             \u001b[1;34m\"r\"\u001b[0m\u001b[1;33m,\u001b[0m\u001b[1;33m\u001b[0m\u001b[1;33m\u001b[0m\u001b[0m\n",
      "\u001b[1;32m~\\anaconda3\\lib\\site-packages\\pandas\\io\\common.py\u001b[0m in \u001b[0;36mget_handle\u001b[1;34m(path_or_buf, mode, encoding, compression, memory_map, is_text, errors, storage_options)\u001b[0m\n\u001b[0;32m    640\u001b[0m                 \u001b[0merrors\u001b[0m \u001b[1;33m=\u001b[0m \u001b[1;34m\"replace\"\u001b[0m\u001b[1;33m\u001b[0m\u001b[1;33m\u001b[0m\u001b[0m\n\u001b[0;32m    641\u001b[0m             \u001b[1;31m# Encoding\u001b[0m\u001b[1;33m\u001b[0m\u001b[1;33m\u001b[0m\u001b[1;33m\u001b[0m\u001b[0m\n\u001b[1;32m--> 642\u001b[1;33m             handle = open(\n\u001b[0m\u001b[0;32m    643\u001b[0m                 \u001b[0mhandle\u001b[0m\u001b[1;33m,\u001b[0m\u001b[1;33m\u001b[0m\u001b[1;33m\u001b[0m\u001b[0m\n\u001b[0;32m    644\u001b[0m                 \u001b[0mioargs\u001b[0m\u001b[1;33m.\u001b[0m\u001b[0mmode\u001b[0m\u001b[1;33m,\u001b[0m\u001b[1;33m\u001b[0m\u001b[1;33m\u001b[0m\u001b[0m\n",
      "\u001b[1;31mFileNotFoundError\u001b[0m: [Errno 2] No such file or directory: 'Sheet1.csv'"
     ]
    }
   ],
   "source": [
    "df = pd.read_csv('Sheet1.csv')\n",
    "df.head()"
   ]
  },
  {
   "cell_type": "code",
   "execution_count": null,
   "metadata": {
    "colab": {
     "base_uri": "https://localhost:8080/",
     "height": 265
    },
    "id": "dimllK_DNkK4",
    "outputId": "af6d8d8b-e808-467e-c67a-e19f13f4521c"
   },
   "outputs": [],
   "source": [
    "X1 = df[\"X1\"].values.tolist()\n",
    "X2 = df[\"X2\"].values.tolist()\n",
    "Y = df[\"Y\"].values.tolist()\n",
    "\n",
    "for i in range(len(Y)):\n",
    "    if Y[i] == 0:\n",
    "        plt.plot(X1[i], X2[i], \"r+\")\n",
    "    else:\n",
    "        plt.plot(X1[i], X2[i], \"g+\")"
   ]
  },
  {
   "cell_type": "code",
   "execution_count": null,
   "metadata": {
    "colab": {
     "base_uri": "https://localhost:8080/",
     "height": 353
    },
    "id": "b4u-lQJsNzHC",
    "outputId": "956b7863-7309-45cf-b6f9-6f028341ecd7"
   },
   "outputs": [],
   "source": [
    "import matplotlib.pyplot as plt\n",
    "import numpy as np\n",
    "import random\n",
    "import math\n",
    "from IPython import display\n",
    "from scipy.signal import savgol_filter\n",
    "\n",
    "\n",
    "W = [random.random(), random.random()]\n",
    "b = random.random()\n",
    "\n",
    "lr = 0.1\n",
    "theta=0.5\n",
    "\n",
    "epoch = 0\n",
    "count = 0\n",
    "\n",
    "loss = []\n",
    "\n",
    "while count < len(X1):\n",
    "    \n",
    "    total_error = 0\n",
    "    for i in range(len(X1)):\n",
    "        weighted_sum = W[0]*X1[i] + W[1]*X2[i] + b\n",
    "        pred = 0\n",
    "        if weighted_sum > theta:\n",
    "            pred = 1\n",
    "\n",
    "        error =  Y[i] - pred\n",
    "        if error != 0:\n",
    "            count = 0\n",
    "            total_error += math.sqrt(error**2)\n",
    "            \n",
    "            W[0] += lr * error * X1[i]\n",
    "            W[1] += lr * error * X2[i]\n",
    "            b    += lr * error\n",
    "        else:\n",
    "            count += 1\n",
    "    \n",
    "    loss.append(1/len(X1)*total_error)\n",
    "    \n",
    "    plt.figure(figsize=(20,5))\n",
    "      \n",
    "    display.clear_output(wait=True)\n",
    "    plt.subplot(1,2,1)\n",
    "\n",
    "    for i in range(len(Y)):\n",
    "        if Y[i] == 0:\n",
    "            plt.plot(X1[i], X2[i], \"r+\")\n",
    "        else:\n",
    "            plt.plot(X1[i], X2[i], \"g+\")\n",
    "\n",
    "        plt.xlim([-10, 110])\n",
    "        plt.ylim([-10, 110])\n",
    "\n",
    "        xintr=(theta-b)/W[0]\n",
    "        yintr=(theta-b)/W[1]\n",
    "\n",
    "        slope = -yintr/xintr\n",
    "        xx = plt.xlim()\n",
    "\n",
    "        yeq = []\n",
    "        for x in xx:\n",
    "            yeq.append(slope*x+yintr)\n",
    "        plt.plot(xx,yeq, 'b-')\n",
    "\n",
    "    plt.title(f\"Epoch: {epoch} Loss: {total_error}\")\n",
    "\n",
    "    plt.subplot(1,2,2)\n",
    "    plt.plot(loss, alpha=0.3)\n",
    "    if epoch > 20:\n",
    "        yhat = savgol_filter(loss, 21, 3) # window size 51, polynomial order 3\n",
    "        plt.plot(yhat, 'r--', lw=3)\n",
    "\n",
    "    plt.show()\n",
    "            \n",
    "    print(f\"Epoch: {epoch} Loss: {loss[-1]}\")\n",
    "    epoch += 1"
   ]
  },
  {
   "cell_type": "code",
   "execution_count": null,
   "metadata": {
    "colab": {
     "base_uri": "https://localhost:8080/",
     "height": 206
    },
    "id": "JbJtgbmuPbvD",
    "outputId": "d47eb90b-8de0-4423-81e6-93049ed78fd5"
   },
   "outputs": [],
   "source": [
    "df = pd.read_csv('Sheet1.csv')\n",
    "df.head()"
   ]
  },
  {
   "cell_type": "code",
   "execution_count": null,
   "metadata": {
    "colab": {
     "base_uri": "https://localhost:8080/",
     "height": 265
    },
    "id": "UXPN1nF9Q-zE",
    "outputId": "2074e2db-4b52-4efa-ac45-eb191146d326"
   },
   "outputs": [],
   "source": [
    "X1 = df[\"X1\"].values.tolist()\n",
    "X2 = df[\"X2\"].values.tolist()\n",
    "Y = df[\"Y\"].values.tolist()\n",
    "\n",
    "for i in range(len(Y)):\n",
    "    if Y[i] == 0:\n",
    "        plt.plot(X1[i], X2[i], \"r+\")\n",
    "    else:\n",
    "        plt.plot(X1[i], X2[i], \"g+\")"
   ]
  },
  {
   "cell_type": "code",
   "execution_count": null,
   "metadata": {
    "colab": {
     "base_uri": "https://localhost:8080/",
     "height": 353
    },
    "id": "ZtS1fWgFRSMx",
    "outputId": "80ffd70d-36f2-4414-d681-854f2ed87c07"
   },
   "outputs": [],
   "source": [
    "import matplotlib.pyplot as plt\n",
    "import numpy as np\n",
    "import random\n",
    "import math\n",
    "from IPython import display\n",
    "from scipy.signal import savgol_filter\n",
    "\n",
    "\n",
    "W = [random.random(), random.random()]\n",
    "b = random.random()\n",
    "\n",
    "\n",
    "\n",
    "lr = 0.1\n",
    "theta=0.5\n",
    "\n",
    "epoch = 0\n",
    "count = 0\n",
    "\n",
    "\n",
    "loss = []\n",
    "\n",
    "while count < len(X1):\n",
    "    \n",
    "    total_error = 0\n",
    "    for i in range(len(X1)):\n",
    "        weighted_sum = W[0]*X1[i] + W[1]*X2[i] + b\n",
    "        pred = 0\n",
    "        if weighted_sum > theta:\n",
    "            pred = 1\n",
    "\n",
    "        error =  Y[i] - pred\n",
    "        if error != 0:\n",
    "            count = 0\n",
    "            total_error += math.sqrt(error**2)\n",
    "            \n",
    "            W[0] += lr * error * X1[i]\n",
    "            W[1] += lr * error * X2[i]\n",
    "            b    += lr * error\n",
    "        else:\n",
    "            count += 1\n",
    "    \n",
    "    loss.append(1/len(X1)*total_error)\n",
    "    \n",
    "    plt.figure(figsize=(20,5))\n",
    "     \n",
    "    display.clear_output(wait=True)\n",
    "    plt.subplot(1,2,1)\n",
    "\n",
    "    for i in range(len(Y)):\n",
    "        if Y[i] == 0:\n",
    "            plt.plot(X1[i], X2[i], \"r+\")\n",
    "        else:\n",
    "            plt.plot(X1[i], X2[i], \"g+\")\n",
    "\n",
    "        plt.xlim([-10, 110])\n",
    "        plt.ylim([-10, 110])\n",
    "\n",
    "        xintr=(theta-b)/W[0]\n",
    "        yintr=(theta-b)/W[1]\n",
    "\n",
    "        slope = -yintr/xintr\n",
    "        xx = plt.xlim()\n",
    "#                 print(xx)\n",
    "        yeq = []\n",
    "        for x in xx:\n",
    "            yeq.append(slope*x+yintr)\n",
    "        plt.plot(xx,yeq, 'b-')\n",
    "\n",
    "    plt.title(f\"Epoch: {epoch} Loss: {total_error}\")\n",
    "\n",
    "    plt.subplot(1,2,2)\n",
    "    plt.plot(loss, alpha=0.3)\n",
    "    if epoch > 20:\n",
    "        yhat = savgol_filter(loss, 21, 3) \n",
    "        plt.plot(yhat, 'r--', lw=3)\n",
    "\n",
    "    plt.show()\n",
    "            \n",
    "    print(f\"Epoch: {epoch} Loss: {loss[-1]}\")\n",
    "    epoch += 1"
   ]
  },
  {
   "cell_type": "code",
   "execution_count": null,
   "metadata": {
    "colab": {
     "base_uri": "https://localhost:8080/",
     "height": 206
    },
    "id": "f7O8Q8d5r4K4",
    "outputId": "ff2e3704-0d07-44cd-a3f6-b68bb0c54bf4"
   },
   "outputs": [],
   "source": [
    "df = pd.read_csv('Sheet1.csv')\n",
    "df.head()"
   ]
  },
  {
   "cell_type": "code",
   "execution_count": null,
   "metadata": {
    "colab": {
     "base_uri": "https://localhost:8080/",
     "height": 265
    },
    "id": "rqgICuCNsHdz",
    "outputId": "cb6b9ce9-50e3-4091-d837-801c6b3ec1c6"
   },
   "outputs": [],
   "source": [
    "X1 = df[\"X1\"].values.tolist()\n",
    "X2 = df[\"X2\"].values.tolist()\n",
    "Y = df[\"Y\"].values.tolist()\n",
    "\n",
    "for i in range(len(Y)):\n",
    "    if Y[i] == 0:\n",
    "        plt.plot(X1[i], X2[i], \"b+\")\n",
    "    else:\n",
    "        plt.plot(X1[i], X2[i], \"r+\")"
   ]
  },
  {
   "cell_type": "code",
   "execution_count": null,
   "metadata": {
    "colab": {
     "background_save": true,
     "base_uri": "https://localhost:8080/",
     "height": 353
    },
    "id": "VVx7vlb2shnb",
    "outputId": "17d7702b-d5db-4cd2-983e-11ff508803af"
   },
   "outputs": [],
   "source": [
    "import matplotlib.pyplot as plt\n",
    "import numpy as np\n",
    "import random\n",
    "import math\n",
    "from IPython import display\n",
    "from scipy.signal import savgol_filter\n",
    "\n",
    "\n",
    "W = [random.random(), random.random()]\n",
    "b = random.random()\n",
    "\n",
    "lr = 5\n",
    "theta=0.5\n",
    "\n",
    "epoch = 0\n",
    "count = 0\n",
    "\n",
    "\n",
    "loss = []\n",
    "\n",
    "while count < len(X1):\n",
    "    \n",
    "    total_error = 0\n",
    "    for i in range(len(X1)):\n",
    "        weighted_sum = W[0]*X1[i] + W[1]*X2[i] + b\n",
    "        pred = 0\n",
    "        if weighted_sum > theta:\n",
    "            pred = 1\n",
    "\n",
    "        error =  Y[i] - pred\n",
    "        if error != 0:\n",
    "            count = 0\n",
    "            total_error += math.sqrt(error**2)\n",
    "            \n",
    "            W[0] += lr * error * X1[i]\n",
    "            W[1] += lr * error * X2[i]\n",
    "            b    += lr * error\n",
    "        else:\n",
    "            count += 1\n",
    "    \n",
    "    loss.append(1/len(X1)*total_error)\n",
    "    \n",
    "    plt.figure(figsize=(20,5))\n",
    "    #loss.append([epoch, total_error])   \n",
    "    display.clear_output(wait=True)\n",
    "    plt.subplot(1,2,1)\n",
    "\n",
    "    for i in range(len(Y)):\n",
    "        if Y[i] == 0:\n",
    "            plt.plot(X1[i], X2[i], \"b+\")\n",
    "        else:\n",
    "            plt.plot(X1[i], X2[i], \"r+\")\n",
    "\n",
    "        plt.xlim([-10, 110])\n",
    "        plt.ylim([-10, 110])\n",
    "\n",
    "        xintr=(theta-b)/W[0]\n",
    "        yintr=(theta-b)/W[1]\n",
    "\n",
    "        slope = -yintr/xintr\n",
    "        xx = plt.xlim()\n",
    "#                 print(xx)\n",
    "        yeq = []\n",
    "        for x in xx:\n",
    "            yeq.append(slope*x+yintr)\n",
    "        plt.plot(xx,yeq, 'b-')\n",
    "\n",
    "    plt.title(f\"Epoch: {epoch} Loss: {total_error}\")\n",
    "\n",
    "    plt.subplot(1,2,2)\n",
    "    plt.plot(loss, alpha=0.3)\n",
    "    if epoch > 20:\n",
    "        yhat = savgol_filter(loss, 21, 3) # window size 51, polynomial order 3\n",
    "        plt.plot(yhat, 'r--', lw=3)\n",
    "\n",
    "    plt.show()\n",
    "            \n",
    "    print(f\"Epoch: {epoch} Loss: {loss[-1]}\")\n",
    "    epoch += 1"
   ]
  }
 ],
 "metadata": {
  "colab": {
   "collapsed_sections": [],
   "name": "HW_1.ipynb",
   "provenance": []
  },
  "kernelspec": {
   "display_name": "Python 3",
   "language": "python",
   "name": "python3"
  },
  "language_info": {
   "codemirror_mode": {
    "name": "ipython",
    "version": 3
   },
   "file_extension": ".py",
   "mimetype": "text/x-python",
   "name": "python",
   "nbconvert_exporter": "python",
   "pygments_lexer": "ipython3",
   "version": "3.8.8"
  }
 },
 "nbformat": 4,
 "nbformat_minor": 1
}
