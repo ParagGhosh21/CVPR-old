{
 "cells": [
  {
   "cell_type": "code",
   "execution_count": 1,
   "id": "0553c1ab",
   "metadata": {},
   "outputs": [
    {
     "name": "stdout",
     "output_type": "stream",
     "text": [
      "Spiral 3x3:\n"
     ]
    },
    {
     "data": {
      "text/plain": [
       "[[0, 0], [1, 0], [1, 1], [0, 1], [-1, 1], [-1, 0], [-1, -1], [0, -1], [1, -1]]"
      ]
     },
     "execution_count": 1,
     "metadata": {},
     "output_type": "execute_result"
    }
   ],
   "source": [
    "def spiral(N, M):\n",
    "    x,y = 0,0   \n",
    "    dx, dy = 0, -1\n",
    "\n",
    "    for dumb in range(N*M):\n",
    "        if abs(x) == abs(y) and [dx,dy] != [1,0] or x>0 and y == 1-x:  \n",
    "            dx, dy = -dy, dx            # corner, change direction\n",
    "\n",
    "        if abs(x)>N/2 or abs(y)>M/2:    # non-square\n",
    "            dx, dy = -dy, dx            # change direction\n",
    "            x, y = -y+dx, x+dy          # jump\n",
    "\n",
    "        yield x, y\n",
    "        x, y = x+dx, y+dy\n",
    "print('Spiral 3x3:')\n",
    "SPIRAL=[]\n",
    "for a,b in spiral(3,3):\n",
    "        SPIRAL.append([a,b])\n",
    "        \n",
    "SPIRAL\n"
   ]
  },
  {
   "cell_type": "code",
   "execution_count": 2,
   "id": "914db7c1",
   "metadata": {},
   "outputs": [],
   "source": [
    "import numpy as np\n",
    "import matplotlib.pyplot as plt\n",
    "%matplotlib inline"
   ]
  },
  {
   "cell_type": "code",
   "execution_count": 5,
   "id": "17da2d22",
   "metadata": {},
   "outputs": [],
   "source": [
    "class NeuralNetwork_ReLU(object):\n",
    "    def __init__(self):\n",
    "        inputLayerNeurons = 2\n",
    "        hiddenLayerNeurons = 10\n",
    "        outLayerNeurons = 1\n",
    "        \n",
    "        self.learning_rate = 0.2\n",
    "        self.W_HI = np.random.randn(inputLayerNeurons, hiddenLayerNeurons)\n",
    "        self.W_OH = np.random.randn(hiddenLayerNeurons, outLayerNeurons)\n",
    "        \n",
    "    def tanh(self, x, der=False):\n",
    "        if der == True:\n",
    "            return 0\n",
    "        else:\n",
    "            return list(map(lambda a: a if a>=0 else 0, x))\n",
    "        \n",
    "    def feedForward(self, X):\n",
    "        hidden_input = np.dot(X, self.W_HI)\n",
    "        self.hidden_output = self.tanh(hidden_input)\n",
    "        \n",
    "        output_input = np.dot(self.hidden_output, self.W_OH)\n",
    "        pred = self.tanh(output_input)\n",
    "        return pred\n",
    "        \n",
    "    def backPropagation(self, X, Y, pred):\n",
    "        output_error = Y - pred\n",
    "        output_delta = self.learning_rate * output_error * self.tanh(pred, der=True)\n",
    "        \n",
    "        hidden_error = output_delta.dot(self.W_OH.T)\n",
    "        hidden_delta = self.learning_rate * hidden_error * self.tanh(self.hidden_output, der=True)\n",
    "        \n",
    "        self.W_HI += X.T.dot(hidden_delta)\n",
    "        self.W_OH += self.hidden_output.T.dot(output_delta)\n",
    "        \n",
    "    def train(self, X, Y):\n",
    "        output = self.feedForward(X)\n",
    "        self.backPropagation(X,Y,output)"
   ]
  },
  {
   "cell_type": "code",
   "execution_count": null,
   "id": "7e6cb457",
   "metadata": {},
   "outputs": [],
   "source": [
    "NN = NeuralNetwork_ReLU()\n",
    "\n",
    "err = []\n",
    "for i in range(10000):\n",
    "    NN.train(X,Y)\n",
    "    err.append(np.mean(np.square(Y - NN.feedForward(X))))\n",
    "\n",
    "plt.plot(err)"
   ]
  },
  {
   "cell_type": "code",
   "execution_count": null,
   "id": "3700a471",
   "metadata": {},
   "outputs": [],
   "source": [
    "print(NN.feedForward([0,0]))\n"
   ]
  },
  {
   "cell_type": "code",
   "execution_count": null,
   "id": "918da1eb",
   "metadata": {},
   "outputs": [],
   "source": [
    "print(NN.feedForward([1,1]))"
   ]
  },
  {
   "cell_type": "code",
   "execution_count": null,
   "id": "156c31d1",
   "metadata": {},
   "outputs": [],
   "source": [
    "print(NN.feedForward([1,0]))"
   ]
  },
  {
   "cell_type": "code",
   "execution_count": null,
   "id": "a449d9fe",
   "metadata": {},
   "outputs": [],
   "source": [
    "print(NN.feedForward([0,1]))"
   ]
  },
  {
   "cell_type": "code",
   "execution_count": null,
   "id": "a8c4b683",
   "metadata": {},
   "outputs": [],
   "source": [
    "class NeuralNetwork_Tanh(object):\n",
    "    def __init__(self):\n",
    "        inputLayerNeurons = 2\n",
    "        hiddenLayerNeurons = 10\n",
    "        outLayerNeurons = 1\n",
    "        \n",
    "        self.learning_rate = 0.2\n",
    "        self.W_HI = np.random.randn(inputLayerNeurons, hiddenLayerNeurons)\n",
    "        self.W_OH = np.random.randn(hiddenLayerNeurons, outLayerNeurons)\n",
    "        \n",
    "    def tanh(self, x, der=False):\n",
    "        if der == True:\n",
    "            return 1-x**2\n",
    "        else:\n",
    "            return (np.exp(2*x) - 1) / (np.exp(2*x) + 1)\n",
    "        \n",
    "    def feedForward(self, X):\n",
    "        hidden_input = np.dot(X, self.W_HI)\n",
    "        self.hidden_output = self.tanh(hidden_input)\n",
    "        \n",
    "        output_input = np.dot(self.hidden_output, self.W_OH)\n",
    "        pred = self.tanh(output_input)\n",
    "        return pred\n",
    "        \n",
    "    def backPropagation(self, X, Y, pred):\n",
    "        output_error = Y - pred\n",
    "        output_delta = self.learning_rate * output_error * self.tanh(pred, der=True)\n",
    "        \n",
    "        hidden_error = output_delta.dot(self.W_OH.T)\n",
    "        hidden_delta = self.learning_rate * hidden_error * self.tanh(self.hidden_output, der=True)\n",
    "        \n",
    "        self.W_HI += X.T.dot(hidden_delta)\n",
    "        self.W_OH += self.hidden_output.T.dot(output_delta)\n",
    "        \n",
    "    def train(self, X, Y):\n",
    "        output = self.feedForward(X)\n",
    "        self.backPropagation(X,Y,output)"
   ]
  },
  {
   "cell_type": "code",
   "execution_count": null,
   "id": "f8c951c2",
   "metadata": {},
   "outputs": [],
   "source": [
    "NN = NeuralNetwork_Tanh()\n",
    "\n",
    "err = []\n",
    "for i in range(10000):\n",
    "    \n",
    "     err.append(np.mean(np.square(Y - NN.feedForward(X))))\n",
    "\n",
    "plt.plot(err)"
   ]
  },
  {
   "cell_type": "code",
   "execution_count": null,
   "id": "bb517090",
   "metadata": {},
   "outputs": [],
   "source": []
  }
 ],
 "metadata": {
  "kernelspec": {
   "display_name": "Python 3",
   "language": "python",
   "name": "python3"
  },
  "language_info": {
   "codemirror_mode": {
    "name": "ipython",
    "version": 3
   },
   "file_extension": ".py",
   "mimetype": "text/x-python",
   "name": "python",
   "nbconvert_exporter": "python",
   "pygments_lexer": "ipython3",
   "version": "3.8.8"
  }
 },
 "nbformat": 4,
 "nbformat_minor": 5
}
