{
 "cells": [
  {
   "cell_type": "code",
   "execution_count": 8,
   "id": "0553c1ab",
   "metadata": {},
   "outputs": [
    {
     "name": "stdout",
     "output_type": "stream",
     "text": [
      "Spiral 3x3:\n"
     ]
    },
    {
     "data": {
      "text/plain": [
       "[[0, 0], [1, 0], [1, 1], [0, 1], [-1, 1], [-1, 0], [-1, -1], [0, -1], [1, -1]]"
      ]
     },
     "execution_count": 8,
     "metadata": {},
     "output_type": "execute_result"
    }
   ],
   "source": [
    "def spiral(N, M):\n",
    "    x,y = 0,0   \n",
    "    dx, dy = 0, -1\n",
    "\n",
    "    for dumb in range(N*M):\n",
    "        if abs(x) == abs(y) and [dx,dy] != [1,0] or x>0 and y == 1-x:  \n",
    "            dx, dy = -dy, dx            # corner, change direction\n",
    "\n",
    "        if abs(x)>N/2 or abs(y)>M/2:    # non-square\n",
    "            dx, dy = -dy, dx            # change direction\n",
    "            x, y = -y+dx, x+dy          # jump\n",
    "\n",
    "        yield x, y\n",
    "        x, y = x+dx, y+dy\n",
    "print('Spiral 3x3:')\n",
    "SPIRAL=[]\n",
    "for a,b in spiral(3,3):\n",
    "        SPIRAL.append([a,b])\n",
    "        \n",
    "SPIRAL\n"
   ]
  },
  {
   "cell_type": "code",
   "execution_count": 3,
   "id": "dce6367b",
   "metadata": {},
   "outputs": [],
   "source": [
    "import matplotlib.pyplot as plt\n",
    "import numpy as np"
   ]
  },
  {
   "cell_type": "code",
   "execution_count": 1,
   "id": "ac16fdbc",
   "metadata": {},
   "outputs": [],
   "source": [
    "class NeuralNetwork_Tanh(object):\n",
    "    def __init__(self):\n",
    "        inputLayerNeurons = 2\n",
    "        hiddenLayerNeurons = 10\n",
    "        outLayerNeurons = 1\n",
    "        \n",
    "        self.learning_rate = 0.2\n",
    "        self.W_HI = np.random.randn(inputLayerNeurons, hiddenLayerNeurons)\n",
    "        self.W_OH = np.random.randn(hiddenLayerNeurons, outLayerNeurons)\n",
    "        \n",
    "    def tanh(self, x, der=False):\n",
    "        if der == True:\n",
    "            return 1-x**2\n",
    "        else:\n",
    "            return (np.exp(2*x) - 1) / (np.exp(2*x) + 1)\n",
    "        \n",
    "    def feedForward(self, X):\n",
    "        hidden_input = np.dot(X, self.W_HI)\n",
    "        self.hidden_output = self.tanh(hidden_input)\n",
    "        \n",
    "        output_input = np.dot(self.hidden_output, self.W_OH)\n",
    "        pred = self.tanh(output_input)\n",
    "        return pred\n",
    "        \n",
    "    def backPropagation(self, X, Y, pred):\n",
    "        output_error = Y - pred\n",
    "        output_delta = self.learning_rate * output_error * self.tanh(pred, der=True)\n",
    "        \n",
    "        hidden_error = output_delta.dot(self.W_OH.T)\n",
    "        hidden_delta = self.learning_rate * hidden_error * self.tanh(self.hidden_output, der=True)\n",
    "        \n",
    "        self.W_HI += X.T.dot(hidden_delta)\n",
    "        self.W_OH += self.hidden_output.T.dot(output_delta)\n",
    "        \n",
    "    def train(self, X, Y):\n",
    "        output = self.feedForward(X)\n",
    "        self.backPropagation(X,Y,output)"
   ]
  },
  {
   "cell_type": "code",
   "execution_count": 2,
   "id": "bcf76cba",
   "metadata": {},
   "outputs": [
    {
     "ename": "NameError",
     "evalue": "name 'x' is not defined",
     "output_type": "error",
     "traceback": [
      "\u001b[1;31m---------------------------------------------------------------------------\u001b[0m",
      "\u001b[1;31mNameError\u001b[0m                                 Traceback (most recent call last)",
      "\u001b[1;32m<ipython-input-2-dee9084c4d18>\u001b[0m in \u001b[0;36m<module>\u001b[1;34m\u001b[0m\n\u001b[0;32m     10\u001b[0m     \u001b[0my\u001b[0m \u001b[1;33m=\u001b[0m \u001b[0mlist\u001b[0m\u001b[1;33m(\u001b[0m\u001b[0mmap\u001b[0m\u001b[1;33m(\u001b[0m\u001b[0mstep\u001b[0m\u001b[1;33m,\u001b[0m \u001b[0mx\u001b[0m\u001b[1;33m)\u001b[0m\u001b[1;33m)\u001b[0m\u001b[1;33m\u001b[0m\u001b[1;33m\u001b[0m\u001b[0m\n\u001b[0;32m     11\u001b[0m \u001b[1;33m\u001b[0m\u001b[0m\n\u001b[1;32m---> 12\u001b[1;33m \u001b[0my\u001b[0m \u001b[1;33m=\u001b[0m \u001b[0mlist\u001b[0m\u001b[1;33m(\u001b[0m\u001b[0mmap\u001b[0m\u001b[1;33m(\u001b[0m\u001b[1;32mlambda\u001b[0m \u001b[0mn\u001b[0m\u001b[1;33m:\u001b[0m \u001b[1;36m1\u001b[0m \u001b[1;32mif\u001b[0m \u001b[0mn\u001b[0m\u001b[1;33m>\u001b[0m\u001b[1;36m0.5\u001b[0m \u001b[1;32melse\u001b[0m \u001b[1;36m0\u001b[0m\u001b[1;33m,\u001b[0m \u001b[0mx\u001b[0m\u001b[1;33m)\u001b[0m\u001b[1;33m)\u001b[0m\u001b[1;33m\u001b[0m\u001b[1;33m\u001b[0m\u001b[0m\n\u001b[0m\u001b[0;32m     13\u001b[0m \u001b[0mplot_graph\u001b[0m\u001b[1;33m(\u001b[0m\u001b[0my\u001b[0m\u001b[1;33m,\u001b[0m\u001b[1;34m\"STEP(X)\"\u001b[0m\u001b[1;33m)\u001b[0m\u001b[1;33m\u001b[0m\u001b[1;33m\u001b[0m\u001b[0m\n",
      "\u001b[1;31mNameError\u001b[0m: name 'x' is not defined"
     ]
    }
   ],
   "source": [
    "def step(x):\n",
    "    if x > 0.5:\n",
    "        return 1\n",
    "    else:\n",
    "         return 0\n",
    "\n",
    "    y = []\n",
    "    for i in x:\n",
    "        y.append(step(i))\n",
    "    y = list(map(step, x))\n",
    "\n",
    "y = list(map(lambda n: 1 if n>0.5 else 0, x))\n",
    "plot_graph(y,\"STEP(X)\")"
   ]
  },
  {
   "cell_type": "code",
   "execution_count": 10,
   "id": "bb517090",
   "metadata": {},
   "outputs": [],
   "source": [
    "def plot_graph(y,ylabel):\n",
    "    plt.figure()\n",
    "    plt.plot(x,y, 'o--')\n",
    "    plt.grid(True)\n",
    "    plt.xlabel(\"X\")\n",
    "    plt.ylabel(ylabel)\n",
    "    plt.show()"
   ]
  },
  {
   "cell_type": "code",
   "execution_count": 11,
   "id": "f6625fcb",
   "metadata": {},
   "outputs": [
    {
     "ename": "NameError",
     "evalue": "name 'x' is not defined",
     "output_type": "error",
     "traceback": [
      "\u001b[1;31m---------------------------------------------------------------------------\u001b[0m",
      "\u001b[1;31mNameError\u001b[0m                                 Traceback (most recent call last)",
      "\u001b[1;32m<ipython-input-11-caf1d27aec5f>\u001b[0m in \u001b[0;36m<module>\u001b[1;34m\u001b[0m\n\u001b[1;32m----> 1\u001b[1;33m \u001b[0my\u001b[0m \u001b[1;33m=\u001b[0m \u001b[1;33m(\u001b[0m\u001b[0mnp\u001b[0m\u001b[1;33m.\u001b[0m\u001b[0mexp\u001b[0m\u001b[1;33m(\u001b[0m\u001b[1;36m2\u001b[0m\u001b[1;33m*\u001b[0m\u001b[0mx\u001b[0m\u001b[1;33m)\u001b[0m \u001b[1;33m-\u001b[0m \u001b[1;36m1\u001b[0m\u001b[1;33m)\u001b[0m \u001b[1;33m/\u001b[0m \u001b[1;33m(\u001b[0m\u001b[0mnp\u001b[0m\u001b[1;33m.\u001b[0m\u001b[0mexp\u001b[0m\u001b[1;33m(\u001b[0m\u001b[1;36m2\u001b[0m\u001b[1;33m*\u001b[0m\u001b[0mx\u001b[0m\u001b[1;33m)\u001b[0m \u001b[1;33m+\u001b[0m \u001b[1;36m1\u001b[0m\u001b[1;33m)\u001b[0m\u001b[1;33m\u001b[0m\u001b[1;33m\u001b[0m\u001b[0m\n\u001b[0m\u001b[0;32m      2\u001b[0m \u001b[0mplot_graph\u001b[0m\u001b[1;33m(\u001b[0m\u001b[0my\u001b[0m\u001b[1;33m,\u001b[0m \u001b[1;34m\"TanH(X)\"\u001b[0m\u001b[1;33m)\u001b[0m\u001b[1;33m\u001b[0m\u001b[1;33m\u001b[0m\u001b[0m\n",
      "\u001b[1;31mNameError\u001b[0m: name 'x' is not defined"
     ]
    }
   ],
   "source": [
    "y = (np.exp(2*x) - 1) / (np.exp(2*x) + 1)\n",
    "plot_graph(y, \"TanH(X)\")"
   ]
  },
  {
   "cell_type": "code",
   "execution_count": 13,
   "id": "291c2fa3",
   "metadata": {},
   "outputs": [
    {
     "ename": "IndentationError",
     "evalue": "unindent does not match any outer indentation level (<tokenize>, line 4)",
     "output_type": "error",
     "traceback": [
      "\u001b[1;36m  File \u001b[1;32m\"<tokenize>\"\u001b[1;36m, line \u001b[1;32m4\u001b[0m\n\u001b[1;33m    else:\u001b[0m\n\u001b[1;37m    ^\u001b[0m\n\u001b[1;31mIndentationError\u001b[0m\u001b[1;31m:\u001b[0m unindent does not match any outer indentation level\n"
     ]
    }
   ],
   "source": [
    " def relu(x):\n",
    "        if x >= 0:\n",
    "        return x\n",
    "    else:\n",
    "        return 0\n",
    "    y = list(map(relu, x))\n",
    "\n",
    "y = list(map(lambda a: a if a>=0 else 0, x))\n",
    "plot_graph(y,\"ReLU(X)\")"
   ]
  },
  {
   "cell_type": "code",
   "execution_count": null,
   "id": "773887e7",
   "metadata": {},
   "outputs": [],
   "source": []
  }
 ],
 "metadata": {
  "kernelspec": {
   "display_name": "Python 3",
   "language": "python",
   "name": "python3"
  },
  "language_info": {
   "codemirror_mode": {
    "name": "ipython",
    "version": 3
   },
   "file_extension": ".py",
   "mimetype": "text/x-python",
   "name": "python",
   "nbconvert_exporter": "python",
   "pygments_lexer": "ipython3",
   "version": "3.8.8"
  }
 },
 "nbformat": 4,
 "nbformat_minor": 5
}
